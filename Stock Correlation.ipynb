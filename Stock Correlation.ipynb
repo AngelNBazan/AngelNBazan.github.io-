{
 "cells": [
  {
   "cell_type": "code",
   "execution_count": 2,
   "id": "141137da",
   "metadata": {},
   "outputs": [],
   "source": [
    "import math\n",
    "import bs4\n",
    "import numpy as np\n",
    "import pandas as pd\n",
    "from pandas_datareader import data as pdr\n",
    "import matplotlib.pyplot as plt\n",
    "import matplotlib.dates as mdates\n",
    "import datetime as dt\n",
    "import mplfinance as mpf\n",
    "import yfinance as yf\n",
    "from scipy import stats\n",
    "import stockquotes\n",
    "\n",
    "%matplotlib inline\n",
    "yf.pdr_override()"
   ]
  },
  {
   "cell_type": "code",
   "execution_count": 3,
   "id": "71074466",
   "metadata": {
    "scrolled": true
   },
   "outputs": [
    {
     "name": "stdout",
     "output_type": "stream",
     "text": [
      "Enter Starting Year: 2021\n",
      "Enter Starting Month: 3\n",
      "Enter Starting Day: 1\n"
     ]
    }
   ],
   "source": [
    "raw_startyear=input(\"Enter Starting Year: \")\n",
    "raw_startmonth=input(\"Enter Starting Month: \")\n",
    "raw_startday=input(\"Enter Starting Day: \")"
   ]
  },
  {
   "cell_type": "code",
   "execution_count": 4,
   "id": "c828c5dc",
   "metadata": {},
   "outputs": [],
   "source": [
    "startyear=int(raw_startyear)\n",
    "startmonth=int(raw_startmonth)\n",
    "startday=int(raw_startday)\n",
    "start=dt.datetime(startyear,startmonth,startday)\n",
    "now=dt.datetime.now()"
   ]
  },
  {
   "cell_type": "code",
   "execution_count": 12,
   "id": "6f5f4a55",
   "metadata": {
    "scrolled": false
   },
   "outputs": [
    {
     "name": "stdout",
     "output_type": "stream",
     "text": [
      "Enter First Stock: xle\n",
      "Stock 1:xle\n",
      "Enter IV: .274\n",
      "[*********************100%***********************]  1 of 1 completed\n",
      "Enter Second Stock: cvx\n",
      "Stock 2:cvx\n",
      "Enter IV: .218\n",
      "[*********************100%***********************]  1 of 1 completed\n"
     ]
    }
   ],
   "source": [
    "stock1=input(\"Enter First Stock: \")\n",
    "print(\"Stock 1:\" + stock1)\n",
    "stock1IVin=input(\"Enter IV: \")\n",
    "stock1IV=float(stock1IVin)\n",
    "stockd1=pdr.get_data_yahoo(stock1,start,now,interval='1wk')\n",
    "stockd1 = stockd1.dropna()\n",
    "\n",
    "stock2=input(\"Enter Second Stock: \")\n",
    "print(\"Stock 2:\" + stock2)\n",
    "stock2IVin=input(\"Enter IV: \")\n",
    "stock2IV=float(stock2IVin)\n",
    "stockd2=pdr.get_data_yahoo(stock2,start,now,interval='1wk')\n",
    "stockd2 = stockd2.dropna()"
   ]
  },
  {
   "cell_type": "code",
   "execution_count": 13,
   "id": "412e400c",
   "metadata": {
    "scrolled": true
   },
   "outputs": [
    {
     "name": "stdout",
     "output_type": "stream",
     "text": [
      "[        nan  0.01170915 -0.07541534  0.01817088  0.00820535 -0.04213883\n",
      "  0.00435781 -0.01776856  0.03891452  0.08584736 -0.00261042 -0.02486455\n",
      "  0.0009586   0.06780306 -0.00663666 -0.05399067  0.05630846 -0.00164577\n",
      " -0.03364423 -0.07890247 -0.0032868   0.01793077  0.00242959 -0.00181783\n",
      " -0.0714285   0.07452602 -0.01399317 -0.0170711   0.03201506  0.03203569\n",
      "  0.0706111   0.05070579  0.01343472  0.0013954   0.        ]\n",
      "[            nan  2.34863161e-02 -7.33238385e-02  3.96596500e-02\n",
      " -1.60960557e-02 -2.67613514e-02  3.88759615e-04 -1.36946501e-02\n",
      "  1.49680010e-02  6.74298411e-02 -4.99906023e-03 -4.88718590e-02\n",
      "  9.03258795e-03  4.48983390e-02 -4.97915927e-03 -4.52229087e-02\n",
      "  4.14442289e-02 -1.14631950e-02 -1.88554920e-02 -5.23685541e-02\n",
      "  2.43352001e-03  2.98402037e-02  1.37511268e-03  9.80657833e-05\n",
      " -7.51274806e-02  6.01260366e-02 -1.16585719e-02 -1.45655780e-02\n",
      "  7.18228837e-03  3.96857819e-02  3.70775687e-02  3.56561023e-02\n",
      "  1.44377373e-02  1.94325084e-02  0.00000000e+00]\n"
     ]
    }
   ],
   "source": [
    "stock1pct=stockd1['Adj Close'].pct_change().values\n",
    "stock2pct=stockd2['Adj Close'].pct_change().values\n",
    "print(stock1pct)\n",
    "print(stock2pct)"
   ]
  },
  {
   "cell_type": "code",
   "execution_count": 14,
   "id": "207fc595",
   "metadata": {
    "scrolled": false
   },
   "outputs": [
    {
     "name": "stdout",
     "output_type": "stream",
     "text": [
      "Beta =  0.7887875432850193\n",
      "r =  0.9362807722300917\n",
      "Std Error 0.052311643901523486\n"
     ]
    },
    {
     "data": {
      "text/plain": [
       "[<matplotlib.lines.Line2D at 0x213d4d54df0>]"
      ]
     },
     "execution_count": 14,
     "metadata": {},
     "output_type": "execute_result"
    },
    {
     "data": {
      "image/png": "[encoded data removed]",
      "text/plain": [
       "<Figure size 432x288 with 1 Axes>"
      ]
     },
     "metadata": {
      "needs_background": "light"
     },
     "output_type": "display_data"
    }
   ],
   "source": [
    "plt.plot(stock1pct,stock2pct,'.')\n",
    "plt.grid(True)\n",
    "plt.xlabel(stock1 + \" % Change\")\n",
    "plt.ylabel(stock2 + \" % Change\")\n",
    "stock1pct = np.delete(stock1pct,0)\n",
    "stock2pct = np.delete(stock2pct,0)\n",
    "slope, intercept, r, p, std_error= stats.linregress(stock1pct,stock2pct)\n",
    "print('Beta = ', slope)\n",
    "print('r = ', r)\n",
    "print('Std Error', std_error)\n",
    "x = np.linspace(np.amin(stock1pct),np.amax(stock1pct))\n",
    "y = slope * x + intercept\n",
    "plt.plot(stock1pct, stock2pct, 'b.', alpha = .5)\n",
    "plt.plot(x,y,'k')"
   ]
  },
  {
   "cell_type": "code",
   "execution_count": 15,
   "id": "5896531a",
   "metadata": {},
   "outputs": [
    {
     "name": "stdout",
     "output_type": "stream",
     "text": [
      "Desired Days to Exp: 15\n",
      "57.41\n",
      "Stock 1 Implied % Change  0.05554561250443775\n",
      "Stock 2 Implied % Change  0.0438136872276371\n",
      "//////////////////////////////////////////////\n",
      "Stock 1 Implied $ Change  3.188873613879771\n",
      "Stock 2 Implied $ Change  4.89574141081617\n"
     ]
    }
   ],
   "source": [
    "EXPDaysRaw =input(\"Desired Days to Exp: \")\n",
    "EXPDays =int(EXPDaysRaw)\n",
    "\n",
    "stock1Price = float( stockquotes.Stock(stock1).current_price)\n",
    "print(stock1Price)\n",
    "stock1IMP_Per = ((math.sqrt(EXPDays/365)*stock1IV*stock1Price)/stock1Price)\n",
    "stock2Price = float(stockquotes.Stock(stock2).current_price)\n",
    "stock2IMP_Per = (stock1IMP_Per*slope)\n",
    "print(\"Stock 1 Implied % Change \", (stock1IMP_Per))\n",
    "print(\"Stock 2 Implied % Change \", (stock2IMP_Per))\n",
    "print(\"//////////////////////////////////////////////\")\n",
    "print(\"Stock 1 Implied $ Change \", stock1IMP_Per*stock1Price)\n",
    "print(\"Stock 2 Implied $ Change \", stock2IMP_Per*stock2Price)"
   ]
  },
  {
   "cell_type": "code",
   "execution_count": 18,
   "id": "32a84485",
   "metadata": {},
   "outputs": [
    {
     "name": "stdout",
     "output_type": "stream",
     "text": [
      "Enter Stock Desired Imp Change: 3.5\n"
     ]
    }
   ],
   "source": [
    "rawcustomImpChng = input(\"Enter Stock Desired Imp Change: \")\n",
    "customImpChng = float(rawcustomImpChng)\n",
    "custom1Per = customImpChng/stock1Price\n",
    "custom2Per = slope*custom1Per\n",
    "custom2ImpChng = custom2Per*stock2Price"
   ]
  },
  {
   "cell_type": "code",
   "execution_count": 19,
   "id": "facbb744",
   "metadata": {},
   "outputs": [
    {
     "name": "stdout",
     "output_type": "stream",
     "text": [
      "//////////////////////////////////////////////\n",
      "Custom Stock 1 Implied % Change  0.060964988677930675\n",
      "Custom Stock 2 Implied % Change  0.04808842364566396\n",
      "//////////////////////////////////////////////\n",
      "Custom Stock 1 Implied $ Change  3.5\n",
      "Custom Stock 2 Implied $ Change  5.373400458166491\n"
     ]
    }
   ],
   "source": [
    "print(\"//////////////////////////////////////////////\")\n",
    "print(\"Custom Stock 1 Implied % Change \", (custom1Per))\n",
    "print(\"Custom Stock 2 Implied % Change \", (custom2Per))\n",
    "print(\"//////////////////////////////////////////////\")\n",
    "print(\"Custom Stock 1 Implied $ Change \", custom1Per*stock1Price)\n",
    "print(\"Custom Stock 2 Implied $ Change \", custom2Per*stock2Price)"
   ]
  },
  {
   "cell_type": "code",
   "execution_count": null,
   "id": "2645216d",
   "metadata": {},
   "outputs": [],
   "source": []
  }
 ],
 "metadata": {
  "kernelspec": {
   "display_name": "Python 3 (ipykernel)",
   "language": "python",
   "name": "python3"
  },
  "language_info": {
   "codemirror_mode": {
    "name": "ipython",
    "version": 3
   },
   "file_extension": ".py",
   "mimetype": "text/x-python",
   "name": "python",
   "nbconvert_exporter": "python",
   "pygments_lexer": "ipython3",
   "version": "3.9.0"
  }
 },
 "nbformat": 4,
 "nbformat_minor": 5
}
