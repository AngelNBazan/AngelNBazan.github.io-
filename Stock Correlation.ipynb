{
 "cells": [
  {
   "cell_type": "code",
   "execution_count": null,
   "id": "141137da",
   "metadata": {},
   "outputs": [],
   "source": [
    "import math\n",
    "import bs4\n",
    "import numpy as np\n",
    "import pandas as pd\n",
    "from pandas_datareader import data as pdr\n",
    "import matplotlib.pyplot as plt\n",
    "import matplotlib.dates as mdates\n",
    "import datetime as dt\n",
    "import mplfinance as mpf\n",
    "import yfinance as yf\n",
    "from scipy import stats\n",
    "import stockquotes\n",
    "\n",
    "%matplotlib inline\n",
    "yf.pdr_override()"
   ]
  },
  {
   "cell_type": "code",
   "execution_count": null,
   "id": "71074466",
   "metadata": {
    "scrolled": true
   },
   "outputs": [],
   "source": [
    "raw_startyear=input(\"Enter Starting Year: \")\n",
    "raw_startmonth=input(\"Enter Starting Month: \")\n",
    "raw_startday=input(\"Enter Starting Day: \")"
   ]
  },
  {
   "cell_type": "code",
   "execution_count": null,
   "id": "c828c5dc",
   "metadata": {},
   "outputs": [],
   "source": [
    "startyear=int(raw_startyear)\n",
    "startmonth=int(raw_startmonth)\n",
    "startday=int(raw_startday)\n",
    "start=dt.datetime(startyear,startmonth,startday)\n",
    "now=dt.datetime.now()"
   ]
  },
  {
   "cell_type": "code",
   "execution_count": null,
   "id": "6f5f4a55",
   "metadata": {
    "scrolled": false
   },
   "outputs": [],
   "source": [
    "stock1=input(\"Enter First Stock: \")\n",
    "print(\"Stock 1:\" + stock1)\n",
    "stock1IVin=input(\"Enter IV: \")\n",
    "stock1IV=float(stock1IVin)\n",
    "stockd1=pdr.get_data_yahoo(stock1,start,now,interval='1wk')\n",
    "stockd1 = stockd1.dropna()\n",
    "\n",
    "stock2=input(\"Enter Second Stock: \")\n",
    "print(\"Stock 2:\" + stock2)\n",
    "stock2IVin=input(\"Enter IV: \")\n",
    "stock2IV=float(stock2IVin)\n",
    "stockd2=pdr.get_data_yahoo(stock2,start,now,interval='1wk')\n",
    "stockd2 = stockd2.dropna()"
   ]
  },
  {
   "cell_type": "code",
   "execution_count": null,
   "id": "412e400c",
   "metadata": {
    "scrolled": true
   },
   "outputs": [],
   "source": [
    "stock1pct=stockd1['Adj Close'].pct_change().values\n",
    "stock2pct=stockd2['Adj Close'].pct_change().values\n",
    "print(stock1pct)\n",
    "print(stock2pct)"
   ]
  },
  {
   "cell_type": "code",
   "execution_count": null,
   "id": "207fc595",
   "metadata": {
    "scrolled": false
   },
   "outputs": [],
   "source": [
    "plt.plot(stock1pct,stock2pct,'.')\n",
    "plt.grid(True)\n",
    "plt.xlabel(stock1 + \" % Change\")\n",
    "plt.ylabel(stock2 + \" % Change\")\n",
    "stock1pct = np.delete(stock1pct,0)\n",
    "stock2pct = np.delete(stock2pct,0)\n",
    "slope, intercept, r, p, std_error= stats.linregress(stock1pct,stock2pct)\n",
    "print('Beta = ', slope)\n",
    "print('r = ', r)\n",
    "print('Std Error', std_error)\n",
    "x = np.linspace(np.amin(stock1pct),np.amax(stock1pct))\n",
    "y = slope * x + intercept\n",
    "plt.plot(stock1pct, stock2pct, 'b.', alpha = .5)\n",
    "plt.plot(x,y,'k')"
   ]
  },
  {
   "cell_type": "code",
   "execution_count": null,
   "id": "5896531a",
   "metadata": {},
   "outputs": [],
   "source": [
    "EXPDaysRaw =input(\"Desired Days to Exp: \")\n",
    "EXPDays =int(EXPDaysRaw)\n",
    "\n",
    "stock1Price = float( stockquotes.Stock(stock1).current_price)\n",
    "print(stock1Price)\n",
    "stock1IMP_Per = ((math.sqrt(EXPDays/365)*stock1IV*stock1Price)/stock1Price)\n",
    "stock2Price = float(stockquotes.Stock(stock2).current_price)\n",
    "stock2IMP_Per = (stock1IMP_Per*slope)\n",
    "print(\"Stock 1 Implied % Change \", (stock1IMP_Per))\n",
    "print(\"Stock 2 Implied % Change \", (stock2IMP_Per))\n",
    "print(\"//////////////////////////////////////////////\")\n",
    "print(\"Stock 1 Implied $ Change \", stock1IMP_Per*stock1Price)\n",
    "print(\"Stock 2 Implied $ Change \", stock2IMP_Per*stock2Price)"
   ]
  },
  {
   "cell_type": "code",
   "execution_count": null,
   "id": "32a84485",
   "metadata": {},
   "outputs": [],
   "source": [
    "rawcustomImpChng = input(\"Enter Stock Desired Imp Change: \")\n",
    "customImpChng = float(rawcustomImpChng)\n",
    "custom1Per = customImpChng/stock1Price\n",
    "custom2Per = slope*custom1Per\n",
    "custom2ImpChng = custom2Per*stock2Price"
   ]
  },
  {
   "cell_type": "code",
   "execution_count": null,
   "id": "facbb744",
   "metadata": {},
   "outputs": [],
   "source": [
    "print(\"//////////////////////////////////////////////\")\n",
    "print(\"Custom Stock 1 Implied % Change \", (custom1Per))\n",
    "print(\"Custom Stock 2 Implied % Change \", (custom2Per))\n",
    "print(\"//////////////////////////////////////////////\")\n",
    "print(\"Custom Stock 1 Implied $ Change \", custom1Per*stock1Price)\n",
    "print(\"Custom Stock 2 Implied $ Change \", custom2Per*stock2Price)"
   ]
  },
  {
   "cell_type": "code",
   "execution_count": null,
   "id": "2645216d",
   "metadata": {},
   "outputs": [],
   "source": []
  }
 ],
 "metadata": {
  "kernelspec": {
   "display_name": "Python 3 (ipykernel)",
   "language": "python",
   "name": "python3"
  },
  "language_info": {
   "codemirror_mode": {
    "name": "ipython",
    "version": 3
   },
   "file_extension": ".py",
   "mimetype": "text/x-python",
   "name": "python",
   "nbconvert_exporter": "python",
   "pygments_lexer": "ipython3",
   "version": "3.9.0"
  }
 },
 "nbformat": 4,
 "nbformat_minor": 5
}
